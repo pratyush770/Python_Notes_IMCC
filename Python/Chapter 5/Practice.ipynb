{
 "cells": [
  {
   "cell_type": "code",
   "execution_count": 1,
   "id": "e26314e2-0864-4511-bc5e-0fb69a1ad4dd",
   "metadata": {},
   "outputs": [],
   "source": [
    "import numpy as np\n",
    "import pandas as pd\n",
    "import re"
   ]
  },
  {
   "cell_type": "code",
   "execution_count": 2,
   "id": "cf4e5303-5292-49b9-805e-7852dc566a7e",
   "metadata": {},
   "outputs": [
    {
     "data": {
      "text/plain": [
       "array([ 5, 12, 40, 43, 68, 70])"
      ]
     },
     "execution_count": 2,
     "metadata": {},
     "output_type": "execute_result"
    }
   ],
   "source": [
    "family1 = np.array([70,5,12,68,40,43])\n",
    "family1.sort()\n",
    "family1"
   ]
  },
  {
   "cell_type": "code",
   "execution_count": 3,
   "id": "b03cf25b-4e20-480c-ad3a-795969657e6f",
   "metadata": {},
   "outputs": [
    {
     "data": {
      "text/plain": [
       "(5, 70)"
      ]
     },
     "execution_count": 3,
     "metadata": {},
     "output_type": "execute_result"
    }
   ],
   "source": [
    "family1[0], family1[-1]"
   ]
  },
  {
   "cell_type": "code",
   "execution_count": 4,
   "id": "df0a7684-cb3e-4cd4-b761-ee50ece822d7",
   "metadata": {},
   "outputs": [
    {
     "data": {
      "text/plain": [
       "5.333333333333333"
      ]
     },
     "execution_count": 4,
     "metadata": {},
     "output_type": "execute_result"
    }
   ],
   "source": [
    "first_match = np.array([12,10,2,3,5,0])\n",
    "first_match.mean()"
   ]
  },
  {
   "cell_type": "code",
   "execution_count": 5,
   "id": "413fd9ca-db1e-44c6-b9ae-75038d6f3899",
   "metadata": {},
   "outputs": [
    {
     "data": {
      "text/plain": [
       "array(['Ram Singh', 'Abhay Kumar'], dtype='<U11')"
      ]
     },
     "execution_count": 5,
     "metadata": {},
     "output_type": "execute_result"
    }
   ],
   "source": [
    "firstName = np.array(['Ram','Abhay'])\n",
    "lastName = np.array(['Singh','Kumar'])\n",
    "fullName = np.char.add(np.char.add(firstName, ' '), lastName)\n",
    "fullName"
   ]
  },
  {
   "cell_type": "code",
   "execution_count": 6,
   "id": "721716d2-cd7b-428c-9057-37c789d735d9",
   "metadata": {},
   "outputs": [
    {
     "data": {
      "text/plain": [
       "array(['ABC', 'PQR', 'XYZ', 'DEF', 'DAS', 'GHF', 'JHK', 'RST', 'YUG',\n",
       "       'OPL', 'BNM', 'FBV'], dtype='<U3')"
      ]
     },
     "execution_count": 6,
     "metadata": {},
     "output_type": "execute_result"
    }
   ],
   "source": [
    "cricketPlayers = np.array([\"ABC:22\",\"PQR:21\",\"XYZ:22\",\"DEF:23\",\"DAS:21\",\"GHF:22\",\"JHK:22\",\"RST:21\",\"YUG:21\",\"OPL:22\",\"BNM:23\",\"FBV:21\"])\n",
    "splitPlayers = np.char.split(cricketPlayers, sep=':')\n",
    "names = np.array([player[0] for player in splitPlayers])\n",
    "names"
   ]
  },
  {
   "cell_type": "code",
   "execution_count": 7,
   "id": "ae3d4e4f-d42a-45c0-8bcd-5f164e07a31e",
   "metadata": {},
   "outputs": [
    {
     "data": {
      "text/html": [
       "<div>\n",
       "<style scoped>\n",
       "    .dataframe tbody tr th:only-of-type {\n",
       "        vertical-align: middle;\n",
       "    }\n",
       "\n",
       "    .dataframe tbody tr th {\n",
       "        vertical-align: top;\n",
       "    }\n",
       "\n",
       "    .dataframe thead th {\n",
       "        text-align: right;\n",
       "    }\n",
       "</style>\n",
       "<table border=\"1\" class=\"dataframe\">\n",
       "  <thead>\n",
       "    <tr style=\"text-align: right;\">\n",
       "      <th></th>\n",
       "      <th>State</th>\n",
       "      <th>Capital</th>\n",
       "    </tr>\n",
       "  </thead>\n",
       "  <tbody>\n",
       "    <tr>\n",
       "      <th>0</th>\n",
       "      <td>Maharashtra</td>\n",
       "      <td>Mumbai</td>\n",
       "    </tr>\n",
       "    <tr>\n",
       "      <th>1</th>\n",
       "      <td>Goa</td>\n",
       "      <td>Panaji</td>\n",
       "    </tr>\n",
       "    <tr>\n",
       "      <th>2</th>\n",
       "      <td>Sikkim</td>\n",
       "      <td>Gangtok</td>\n",
       "    </tr>\n",
       "    <tr>\n",
       "      <th>3</th>\n",
       "      <td>Odisha</td>\n",
       "      <td>Bhubaneshwar</td>\n",
       "    </tr>\n",
       "    <tr>\n",
       "      <th>4</th>\n",
       "      <td>Bihar</td>\n",
       "      <td>Patna</td>\n",
       "    </tr>\n",
       "  </tbody>\n",
       "</table>\n",
       "</div>"
      ],
      "text/plain": [
       "         State       Capital\n",
       "0  Maharashtra        Mumbai\n",
       "1          Goa        Panaji\n",
       "2       Sikkim       Gangtok\n",
       "3       Odisha  Bhubaneshwar\n",
       "4        Bihar         Patna"
      ]
     },
     "execution_count": 7,
     "metadata": {},
     "output_type": "execute_result"
    }
   ],
   "source": [
    "states = pd.read_csv('C:/Users/ADMIN/Downloads/StateDetails.txt', names=['State', 'Capital'], sep=' ')\n",
    "states.head()"
   ]
  },
  {
   "cell_type": "code",
   "execution_count": 8,
   "id": "6530c468-5f21-467e-8ec4-7f49ba2f4b00",
   "metadata": {},
   "outputs": [
    {
     "data": {
      "text/html": [
       "<div>\n",
       "<style scoped>\n",
       "    .dataframe tbody tr th:only-of-type {\n",
       "        vertical-align: middle;\n",
       "    }\n",
       "\n",
       "    .dataframe tbody tr th {\n",
       "        vertical-align: top;\n",
       "    }\n",
       "\n",
       "    .dataframe thead th {\n",
       "        text-align: right;\n",
       "    }\n",
       "</style>\n",
       "<table border=\"1\" class=\"dataframe\">\n",
       "  <thead>\n",
       "    <tr style=\"text-align: right;\">\n",
       "      <th></th>\n",
       "      <th>Avenger</th>\n",
       "      <th>Characteristic</th>\n",
       "    </tr>\n",
       "  </thead>\n",
       "  <tbody>\n",
       "    <tr>\n",
       "      <th>0</th>\n",
       "      <td>Black widow</td>\n",
       "      <td>fierce fighter</td>\n",
       "    </tr>\n",
       "    <tr>\n",
       "      <th>1</th>\n",
       "      <td>Thor</td>\n",
       "      <td>funny</td>\n",
       "    </tr>\n",
       "    <tr>\n",
       "      <th>2</th>\n",
       "      <td>Iron man</td>\n",
       "      <td>Commander</td>\n",
       "    </tr>\n",
       "    <tr>\n",
       "      <th>3</th>\n",
       "      <td>Captain America</td>\n",
       "      <td>Defender</td>\n",
       "    </tr>\n",
       "    <tr>\n",
       "      <th>4</th>\n",
       "      <td>Hulk</td>\n",
       "      <td>Logician</td>\n",
       "    </tr>\n",
       "  </tbody>\n",
       "</table>\n",
       "</div>"
      ],
      "text/plain": [
       "            Avenger  Characteristic\n",
       "0       Black widow  fierce fighter\n",
       "1              Thor           funny\n",
       "2         Iron man        Commander\n",
       "3  Captain America         Defender\n",
       "4             Hulk         Logician"
      ]
     },
     "execution_count": 8,
     "metadata": {},
     "output_type": "execute_result"
    }
   ],
   "source": [
    "avengers = pd.read_csv('C:/Users/ADMIN/Downloads/AvengerDetails.txt', names=['Avenger', 'Characteristic'], sep='-')\n",
    "avengers.head()"
   ]
  },
  {
   "cell_type": "code",
   "execution_count": 10,
   "id": "61cd8f7e-4abe-4582-8e80-addf8e0d10e8",
   "metadata": {},
   "outputs": [],
   "source": [
    "sourceFile = open('C:/Users/ADMIN/Downloads/white spaces.txt', 'r')\n",
    "lines = sourceFile.readlines() \n",
    "removed_spaces = []\n",
    "for line in lines:\n",
    "    spaces_removed = re.findall('[^\\s]+', line)\n",
    "    removed_spaces.append(spaces_removed)\n",
    "# Write results to the destination file\n",
    "with open('C:/Users/ADMIN/Downloads/compact.txt', 'w') as f:\n",
    "    for r in removed_spaces:\n",
    "        f.write(f\"{''.join(r)}\\n\")"
   ]
  },
  {
   "cell_type": "code",
   "execution_count": 10,
   "id": "a74e7715-cda7-48d4-ae9a-f7d4a7496aa6",
   "metadata": {},
   "outputs": [
    {
     "name": "stdout",
     "output_type": "stream",
     "text": [
      "Total number of small letters: 20\n",
      "Total number of capital letters: 12\n"
     ]
    }
   ],
   "source": [
    "sourceFile = open('C:/Users/ADMIN/Downloads/source.txt', 'r')\n",
    "lines = sourceFile.readlines()  \n",
    "small_letters = []  # To store small letters\n",
    "capital_letters = []  # To store capital letters\n",
    "\n",
    "for line in lines:\n",
    "    # Find small letters\n",
    "    small_matches = re.findall('[a-z]', line)\n",
    "    small_letters.extend(small_matches)\n",
    "    \n",
    "    # Find capital letters\n",
    "    capital_matches = re.findall('[A-Z]', line)\n",
    "    capital_letters.extend(capital_matches)\n",
    "\n",
    "# Count small and capital letters\n",
    "small_letters_count = len(small_letters)\n",
    "capital_letters_count = len(capital_letters)\n",
    "\n",
    "# Write results to the destination file\n",
    "with open('C:/Users/ADMIN/Downloads/destination.txt', 'w') as f:\n",
    "    f.write(f\"{''.join(small_letters)}\\n\")\n",
    "    f.write(f\"{''.join(capital_letters)}\\n\")\n",
    "\n",
    "print(f\"Total number of small letters: {small_letters_count}\")\n",
    "print(f\"Total number of capital letters: {capital_letters_count}\")"
   ]
  },
  {
   "cell_type": "code",
   "execution_count": 11,
   "id": "4332f6ec-804a-4d5f-bcb0-39d94634e093",
   "metadata": {},
   "outputs": [],
   "source": [
    "contactsFile = open('C:/Users/ADMIN/Downloads/Contacts.txt', 'r')\n",
    "lines = contactsFile.readlines()\n",
    "mobile_numbers = []\n",
    "for line in lines:\n",
    "    matches = re.findall('\\d{10,12}', line)\n",
    "    mobile_numbers.extend(matches)\n",
    "\n",
    "with open('C:/Users/ADMIN/Downloads/MobileNumber.txt', 'w') as f:\n",
    "    f.write('\\n'.join(mobile_numbers))"
   ]
  },
  {
   "cell_type": "code",
   "execution_count": 12,
   "id": "996f9522-c23f-47a0-88c7-dccf1f1d25ec",
   "metadata": {},
   "outputs": [],
   "source": [
    "# attendanceFile = open('C:/Users/ADMIN/Downloads/attendance.txt', 'r')\n",
    "# lines = attendanceFile.readlines()\n",
    "# name = input(\"Enter student name: \")\n",
    "# name = name.lower()\n",
    "# attendance_found = False  # Flag to track if the student is present\n",
    "# for line in lines:\n",
    "#     if re.search(name, line.lower()):  # Case insensitive match\n",
    "#         attendance_found = True\n",
    "#         break  # No need to check further lines once a match is found\n",
    "# if attendance_found:\n",
    "#     print(f\"{name}'s attendance is marked\")\n",
    "# else:\n",
    "#     print(f\"{name} was absent for the lecture\")"
   ]
  }
 ],
 "metadata": {
  "kernelspec": {
   "display_name": "Python 3 (ipykernel)",
   "language": "python",
   "name": "python3"
  },
  "language_info": {
   "codemirror_mode": {
    "name": "ipython",
    "version": 3
   },
   "file_extension": ".py",
   "mimetype": "text/x-python",
   "name": "python",
   "nbconvert_exporter": "python",
   "pygments_lexer": "ipython3",
   "version": "3.11.7"
  }
 },
 "nbformat": 4,
 "nbformat_minor": 5
}
