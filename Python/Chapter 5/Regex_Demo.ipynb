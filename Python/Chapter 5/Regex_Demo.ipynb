{
 "cells": [
  {
   "cell_type": "code",
   "execution_count": 1,
   "id": "e0cd29fe-9f29-49a1-b12d-54dd4786edea",
   "metadata": {},
   "outputs": [],
   "source": [
    "import re"
   ]
  },
  {
   "cell_type": "code",
   "execution_count": 6,
   "id": "ad645b52-15e9-442e-bd01-a6c5ce1bb219",
   "metadata": {},
   "outputs": [
    {
     "data": {
      "text/plain": [
       "['9545447745', '(992)-244-9438']"
      ]
     },
     "execution_count": 6,
     "metadata": {},
     "output_type": "execute_result"
    }
   ],
   "source": [
    "text = ''' \n",
    "My phone number is 9545447745. I am 20 years old\n",
    "(992)-244-9438\n",
    "'''\n",
    "pattern = '\\(\\d{3}\\)-\\d{3}-\\d{4}|\\d{10}' # get phone numbers\n",
    "# \\( to get only '('\n",
    "# \\d{3} to get first 3 digits\n",
    "# | acts as or\n",
    "matches = re.findall(pattern, text)  # findall finds all the matches\n",
    "matches"
   ]
  },
  {
   "cell_type": "code",
   "execution_count": 11,
   "id": "f2a3a877-c239-4bcb-9916-26ee00a4376f",
   "metadata": {},
   "outputs": [
    {
     "data": {
      "text/plain": [
       "['Overview', 'Summary of Significant Accounting Policies']"
      ]
     },
     "execution_count": 11,
     "metadata": {},
     "output_type": "execute_result"
    }
   ],
   "source": [
    "text = ''' \n",
    "Note 1 : Overview\n",
    "Tesla, Inc.\tNotes\tto\tConsolidated\tFinancial\tStatements\t(unaudited) Tesla,\tInc.\t(“Tesla”,\tthe\t“Company”,\t“we”,\t“us”\tor\t“our”)\twas\tincorporated\tin\tthe\tState\tof\tDelaware\ton\tJuly\t1,\t2003.\tWe\tdesign,\tdevelop,\tmanufacture\tand\tsell\thigh-performance\tfully\telectric\tvehicles\tand\tdesign,\tmanufacture,\tinstall\tand\tsell\tsolar\tenergy\tgeneration\tand\tenergy\tstorage\tproducts.\tOur\tChief\tExecutive\tOfficer,\tas\tthe\tchief\toperating\tdecision\tmaker\t(“CODM”),\torganizes\tour\tcompany,\tmanages\tresource\tallocations\tand\tmeasures\tperformance\tamong\ttwo\toperating\tand\treportable\tsegments:\t(i)\tautomotive\tand\t(ii)\tenergy\tgeneration\tand\tstorage. Beginning\tin\tthe\tfirst\tquarter\tof\t2021,\tthere\thas\tbeen\ta\ttrend\tin\tmany\tparts\tof\tthe\tworld\tof\tincreasing\tavailability\tand\tadministration\tof\tvaccines\tagainst\tCOVID-19,\tas\twell\tas\tan\teasing\tof\trestrictions\ton\tsocial,\tbusiness,\ttravel\tand\tgovernment\tactivities\tand\tfunctions.\tOn\tthe\tother\thand,\tinfection\trates\tand\tregulations\tcontinue\tto\tfluctuate\tin\tvarious\tregions\tand\tthere\tare\tongoing\tglobal\timpacts\tresulting\tfrom\tthe\tpandemic,\tincluding\tchallenges\tand\tincreases\tin\tcosts\tfor\tlogistics\tand\tsupply\tchains,\tsuch\tas\tincreased\tport\tcongestion,\tintermittent\tsupplier\tdelays\tand\ta\tshortfall\tof\tsemiconductor\tsupply.\tWe\thave\talso\tpreviously\tbeen\taffected\tby\ttemporary\tmanufacturing\tclosures,\temployment\tand\tcompensation\tadjustments\tand\timpediments\tto\tadministrative\tactivities\tsupporting\tour\tproduct\tdeliveries\tand\tdeployments. \n",
    "Note 2 : Summary of Significant Accounting Policies\n",
    "Unaudited\tInterim\tFinancial\tStatements The\tconsolidated\tbalance\tsheet\tas\tof\tSeptember\t30,\t2021,\tthe\tconsolidated\tstatements\tof\toperations,\tthe\tconsolidated\tstatements\tof\tcomprehensive\tincome,\tthe\tconsolidated\tstatements\tof\tredeemable\tnoncontrolling\tinterests\tand\tequity\tfor\tthe\tthree\tand\tnine\tmonths\tended\tSeptember\t30,\t2021\tand\t2020\tand\tthe\tconsolidated\tstatements\tof\tcash\tflows\tfor\tthe\tnine\tmonths\tended\tSeptember\t30,\t2021\tand\t2020,\tas\twell\tas\tother\tinformation\tdisclosed\tin\tthe\taccompanying\tnotes,\tare\tunaudited.\tThe\tconsolidated\tbalance\tsheet\tas\tof\tDecember\t31,\t2020\twas\tderived\tfrom\tthe\taudited\tconsolidated\tfinancial\tstatements\tas\tof\tthat\tdate.\tThe\tinterim\tconsolidated\tfinancial\tstatements\tand\tthe\taccompanying\tnotes\tshould\tbe\tread\tin\tconjunction\twith\tthe\tannual\tconsolidated\tfinancial\tstatements\tand\tthe\taccompanying\tnotes\tcontained\tin\tour\tAnnual\tReport\ton\tForm\t10-K\tfor\tthe\tyear\tended\tDecember\t31,\t2020.\n",
    "'''\n",
    "pattern = \"Note \\d : ([^\\n]*)\"  # get only the title\n",
    "# [^\\n]* will return everything before new line\n",
    "# () will return only the logic inside it thus returning the title\n",
    "matches = re.findall(pattern, text)\n",
    "matches"
   ]
  },
  {
   "cell_type": "code",
   "execution_count": 20,
   "id": "a61be0e4-b198-40b8-b549-7aea579e1f9a",
   "metadata": {},
   "outputs": [
    {
     "data": {
      "text/plain": [
       "['2020 Q1', '2020 Q4']"
      ]
     },
     "execution_count": 20,
     "metadata": {},
     "output_type": "execute_result"
    }
   ],
   "source": [
    "text = '''\n",
    "Financial period: FY2020 Q1\n",
    "fy2020 Q4\n",
    "FY2020 Q6 is not valid\n",
    "'''\n",
    "pattern = 'FY(\\d{4} Q[1234])'  # get the financial period\n",
    "# we explicity mention [1234] to get values only between 1,2,3 and 4 since Q6 is not a valid quarter\n",
    "# we can do the same using [1-4]\n",
    "matches = re.findall(pattern, text, flags=re.IGNORECASE)  # will ignore the case\n",
    "matches"
   ]
  },
  {
   "cell_type": "code",
   "execution_count": 23,
   "id": "7b53c7f0-49f1-4213-85a5-0d12c9ec5b69",
   "metadata": {},
   "outputs": [
    {
     "data": {
      "text/plain": [
       "['3.85', '4']"
      ]
     },
     "execution_count": 23,
     "metadata": {},
     "output_type": "execute_result"
    }
   ],
   "source": [
    "text = '''\n",
    "Value is $3.85 lakh\n",
    "Value is $4 lakh\n",
    "'''\n",
    "pattern = '\\$([\\d\\.]+)'  # get the numbers with decimals\n",
    "matches = re.findall(pattern, text, flags=re.IGNORECASE)  # will ignore the case\n",
    "matches"
   ]
  },
  {
   "cell_type": "markdown",
   "id": "0ac9b137-70be-407f-89d1-440990da4d5f",
   "metadata": {},
   "source": [
    "<center><h1>Exercise</h1></center>"
   ]
  },
  {
   "cell_type": "markdown",
   "id": "edc6f26d-3c26-45b2-a23f-41f6b05ceb61",
   "metadata": {},
   "source": [
    "#### 1. Extract all twitter handles from following text. Twitter handle is the text that appears after https://twitter.com/ and is a single word. Also it contains only alpha numeric characters i.e. A-Z a-z , o to 9 and underscore _"
   ]
  },
  {
   "cell_type": "code",
   "execution_count": 28,
   "id": "02bef16c-0033-4c09-909d-9293b5182240",
   "metadata": {},
   "outputs": [
    {
     "data": {
      "text/plain": [
       "['elonmusk', 'teslarati', 'dummy_tesla', 'dummy_2_tesla']"
      ]
     },
     "execution_count": 28,
     "metadata": {},
     "output_type": "execute_result"
    }
   ],
   "source": [
    "text = '''\n",
    "Follow our leader Elon musk on twitter here: https://twitter.com/elonmusk, more information \n",
    "on Tesla's products can be found at https://www.tesla.com/. Also here are leading influencers \n",
    "for tesla related news,\n",
    "https://twitter.com/teslarati\n",
    "https://twitter.com/dummy_tesla\n",
    "https://twitter.com/dummy_2_tesla\n",
    "'''\n",
    "pattern = 'https://twitter.com/([a-zA-Z0-9_]+)' # todo: type your regex here\n",
    "matches = re.findall(pattern, text)\n",
    "matches"
   ]
  },
  {
   "cell_type": "markdown",
   "id": "61fb34ec-1dfa-441c-9ab7-1468d55dcb1b",
   "metadata": {},
   "source": [
    "#### 2. Extract Concentration Risk Types. It will be a text that appears after \"Concentration Risk:\", In below example, your regex should extract these two strings"
   ]
  },
  {
   "cell_type": "code",
   "execution_count": 29,
   "id": "462e665a-2cbe-4c3c-8193-95c8e64527be",
   "metadata": {},
   "outputs": [
    {
     "data": {
      "text/plain": [
       "['Credit Risk', 'Supply Risk']"
      ]
     },
     "execution_count": 29,
     "metadata": {},
     "output_type": "execute_result"
    }
   ],
   "source": [
    "text = '''\n",
    "Concentration of Risk: Credit Risk\n",
    "Financial instruments that potentially subject us to a concentration of credit risk consist of cash, cash equivalents, marketable securities,\n",
    "restricted cash, accounts receivable, convertible note hedges, and interest rate swaps. Our cash balances are primarily invested in money market funds\n",
    "or on deposit at high credit quality financial institutions in the U.S. These deposits are typically in excess of insured limits. As of September 30, 2021\n",
    "and December 31, 2020, no entity represented 10% or more of our total accounts receivable balance. The risk of concentration for our convertible note\n",
    "hedges and interest rate swaps is mitigated by transacting with several highly-rated multinational banks.\n",
    "Concentration of Risk: Supply Risk\n",
    "We are dependent on our suppliers, including single source suppliers, and the inability of these suppliers to deliver necessary components of our\n",
    "products in a timely manner at prices, quality levels and volumes acceptable to us, or our inability to efficiently manage these components from these\n",
    "suppliers, could have a material adverse effect on our business, prospects, financial condition and operating results.\n",
    "'''\n",
    "pattern = 'Concentration of Risk: ([^\\n]+)' # todo: type your regex here\n",
    "\n",
    "re.findall(pattern, text)"
   ]
  }
 ],
 "metadata": {
  "kernelspec": {
   "display_name": "Python 3 (ipykernel)",
   "language": "python",
   "name": "python3"
  },
  "language_info": {
   "codemirror_mode": {
    "name": "ipython",
    "version": 3
   },
   "file_extension": ".py",
   "mimetype": "text/x-python",
   "name": "python",
   "nbconvert_exporter": "python",
   "pygments_lexer": "ipython3",
   "version": "3.11.7"
  }
 },
 "nbformat": 4,
 "nbformat_minor": 5
}
