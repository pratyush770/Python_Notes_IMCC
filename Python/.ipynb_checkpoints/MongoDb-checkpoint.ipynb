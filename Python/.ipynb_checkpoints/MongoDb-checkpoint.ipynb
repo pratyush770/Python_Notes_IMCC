{
 "cells": [
  {
   "cell_type": "markdown",
   "id": "04f1c6a0-3e87-40ad-8dbf-19eae2fd7dd6",
   "metadata": {},
   "source": [
    "<center><h1>Mongodb using python</h1></center>"
   ]
  },
  {
   "cell_type": "markdown",
   "id": "ccc3f38f-c9c2-4f38-b59d-b6aa2ba7d7d9",
   "metadata": {},
   "source": [
    "#### Q1)"
   ]
  },
  {
   "cell_type": "code",
   "execution_count": 98,
   "id": "de00f9d5-e2a9-4d76-b0a2-9f9397cdf79b",
   "metadata": {},
   "outputs": [],
   "source": [
    "from pymongo import MongoClient"
   ]
  },
  {
   "cell_type": "code",
   "execution_count": 99,
   "id": "071e3c57-40fd-4581-bcbc-86843b3bb285",
   "metadata": {},
   "outputs": [],
   "source": [
    "con = MongoClient(\"localhost\", 27017)\n",
    "db = con.library\n",
    "db_library_table = db.book_data"
   ]
  },
  {
   "cell_type": "code",
   "execution_count": 100,
   "id": "5862c350-561b-49a2-8d21-e48ae2560843",
   "metadata": {},
   "outputs": [
    {
     "name": "stdin",
     "output_type": "stream",
     "text": [
      "Enter the title of the book:  David Copperfield\n",
      "Enter the author of the book:  Pratyush\n",
      "Enter the price of the book:  200\n",
      "Enter the subject:  Fiction\n",
      "Enter the publication year:  2000\n"
     ]
    },
    {
     "data": {
      "text/plain": [
       "InsertOneResult(ObjectId('676d986e70f48fda89904ee5'), acknowledged=True)"
      ]
     },
     "execution_count": 100,
     "metadata": {},
     "output_type": "execute_result"
    }
   ],
   "source": [
    "title = input(\"Enter the title of the book: \")\n",
    "author = input(\"Enter the author of the book: \")\n",
    "price = int(input(\"Enter the price of the book: \"))\n",
    "subject = input(\"Enter the subject: \")\n",
    "publicationYear = int(input(\"Enter the publication year: \"))\n",
    "\n",
    "book_dict = {\n",
    "    \"title\": title,\n",
    "    \"author\": author,\n",
    "    \"price\": price,\n",
    "    \"subject\": subject,\n",
    "    \"publicationYear\": publicationYear\n",
    "}\n",
    "\n",
    "db_library_table.insert_one(book_dict)"
   ]
  },
  {
   "cell_type": "markdown",
   "id": "5fd3318b-29cd-4b19-8ec9-391ecb79f892",
   "metadata": {},
   "source": [
    "#### Q2)"
   ]
  },
  {
   "cell_type": "code",
   "execution_count": 101,
   "id": "60e64297-e9ed-4ce8-9c25-50831d37017d",
   "metadata": {},
   "outputs": [],
   "source": [
    "con = MongoClient(\"localhost\", 27017)\n",
    "db = con.mca\n",
    "db_mca_table = db.hod_data"
   ]
  },
  {
   "cell_type": "code",
   "execution_count": 102,
   "id": "c7bc1499-6268-440d-8a00-d25913dffac9",
   "metadata": {},
   "outputs": [],
   "source": [
    "db_hod_dict = {\n",
    "    \"Java Programming\": \"Mr. ABC\",\n",
    "    \"Full Stack Development\": \"Ms. PQR\",\n",
    "    \"Cyber Security\": \"Ms. XYZ\",\n",
    "    \"SoftwareProjectManagement\": \"Mr. JKL\",\n",
    "    \"Research Methodology\": \"Mr. LMN\",\n",
    "    \"Soft Skills\": \"Ms. BNC\"\n",
    "}"
   ]
  },
  {
   "cell_type": "code",
   "execution_count": 103,
   "id": "3a2b5310-993a-4aec-bfa9-fc5c3eb61c9e",
   "metadata": {},
   "outputs": [
    {
     "data": {
      "text/plain": [
       "InsertOneResult(ObjectId('676d987f70f48fda89904ee7'), acknowledged=True)"
      ]
     },
     "execution_count": 103,
     "metadata": {},
     "output_type": "execute_result"
    }
   ],
   "source": [
    "db_mca_table.insert_one(db_hod_dict)"
   ]
  },
  {
   "cell_type": "code",
   "execution_count": 104,
   "id": "7b5dc74d-928d-4282-a647-e79d90e650d4",
   "metadata": {},
   "outputs": [
    {
     "name": "stdin",
     "output_type": "stream",
     "text": [
      "Enter the faculty name:  Mr. ABC\n"
     ]
    },
    {
     "name": "stdout",
     "output_type": "stream",
     "text": [
      "Java Programming\n"
     ]
    }
   ],
   "source": [
    "fname = input(\"Enter the faculty name: \")\n",
    "result = db_mca_table.find_one()\n",
    "if result:\n",
    "    found = False\n",
    "    for subject, faculty in result.items():\n",
    "        if subject != '_id' and faculty == fname:  # Skip the '_id' field\n",
    "            print(subject)\n",
    "            found = True\n",
    "            break\n",
    "    if not found:\n",
    "        print(\"This faculty is not teaching any subject in the second semester.\")\n"
   ]
  },
  {
   "cell_type": "markdown",
   "id": "82ea2878-74c6-47aa-93c4-4cf3c7c9e858",
   "metadata": {},
   "source": [
    "#### Q3)"
   ]
  },
  {
   "cell_type": "code",
   "execution_count": 105,
   "id": "d11b7aac-3b37-4aa3-967d-f56f93e172ba",
   "metadata": {},
   "outputs": [],
   "source": [
    "con = MongoClient(\"localhost\", 27017)\n",
    "db = con.mumbai\n",
    "db_mumbai_table = db.marathon_data"
   ]
  },
  {
   "cell_type": "code",
   "execution_count": 106,
   "id": "95f8aa01-2eca-494c-87ad-1d3936e9be93",
   "metadata": {},
   "outputs": [
    {
     "data": {
      "text/plain": [
       "InsertManyResult([ObjectId('676d989770f48fda89904ee9'), ObjectId('676d989770f48fda89904eea'), ObjectId('676d989770f48fda89904eeb'), ObjectId('676d989770f48fda89904eec'), ObjectId('676d989770f48fda89904eed'), ObjectId('676d989770f48fda89904eee'), ObjectId('676d989770f48fda89904eef'), ObjectId('676d989770f48fda89904ef0'), ObjectId('676d989770f48fda89904ef1'), ObjectId('676d989770f48fda89904ef2')], acknowledged=True)"
      ]
     },
     "execution_count": 106,
     "metadata": {},
     "output_type": "execute_result"
    }
   ],
   "source": [
    "data = {\n",
    "    1: {\"reg_number\": 1},\n",
    "    2: {\"reg_number\": 2},\n",
    "    3: {\"reg_number\": 3},\n",
    "    4: {\"reg_number\": 4},\n",
    "    5: {\"reg_number\": 5},\n",
    "    6: {\"reg_number\": 6},\n",
    "    7: {\"reg_number\": 7},\n",
    "    8: {\"reg_number\": 8},\n",
    "    9: {\"reg_number\": 9},\n",
    "    10: {\"reg_number\": 10}\n",
    "}\n",
    "db_mumbai_table.insert_many(data.values())"
   ]
  },
  {
   "cell_type": "code",
   "execution_count": 108,
   "id": "a9a57506-06d1-414c-860f-3ce6a7a78bc7",
   "metadata": {},
   "outputs": [
    {
     "name": "stdin",
     "output_type": "stream",
     "text": [
      "Enter the registration number of the participant who didn't report:  3\n"
     ]
    }
   ],
   "source": [
    "reg_number_input = int(input(\"Enter the registration number of the participant who didn't report: \"))\n",
    "participant = db_mumbai_table.find_one({\"reg_number\": reg_number_input})\n",
    "if participant:\n",
    "    db_mumbai_table.delete_one({\"reg_number\": reg_number_input})"
   ]
  },
  {
   "cell_type": "markdown",
   "id": "a6b14102-e02b-415a-82d0-cf427eb1248f",
   "metadata": {},
   "source": [
    "#### Q4)"
   ]
  },
  {
   "cell_type": "code",
   "execution_count": 109,
   "id": "07c66aa5-b4e6-4141-b0f8-fe8e5ca64064",
   "metadata": {},
   "outputs": [],
   "source": [
    "con = MongoClient(\"localhost\", 27017)\n",
    "db = con.singer\n",
    "db_singer_table = db.singer_data"
   ]
  },
  {
   "cell_type": "code",
   "execution_count": 110,
   "id": "e83efd17-ceb1-4320-b4d6-66f493da3689",
   "metadata": {},
   "outputs": [],
   "source": [
    "singer_dict = {\n",
    "    1: {\"Sonu Nigam\": [\"Kal ho na ho\", \"Mein agar kahu\", \"Abhi mujhme kahi\", \"Tumse milke dil ka\", \"Yeh dil diwana\"]},\n",
    "    2: {\"Arijit Singh\": [\"Tera yaar hu mein\", \"Sajni re\", \"Phir le aya dil\", \"Kabira\", \"Kabhi jo badal barse\"]},\n",
    "    3: {\"Shreya Ghoshal\": [\"Mere dholna\", \"Param sundari\", \"Jadu hai nasha hai\", \"More piya\",\"Tare ginn\"]}\n",
    "}"
   ]
  },
  {
   "cell_type": "code",
   "execution_count": 111,
   "id": "875e46a4-5839-4745-bee9-772cbb72cc5e",
   "metadata": {},
   "outputs": [
    {
     "data": {
      "text/plain": [
       "InsertManyResult([ObjectId('676d98da70f48fda89904ef4'), ObjectId('676d98da70f48fda89904ef5'), ObjectId('676d98da70f48fda89904ef6')], acknowledged=True)"
      ]
     },
     "execution_count": 111,
     "metadata": {},
     "output_type": "execute_result"
    }
   ],
   "source": [
    "db_singer_table.insert_many(singer_dict.values())"
   ]
  },
  {
   "cell_type": "code",
   "execution_count": 112,
   "id": "cbe1ab94-3c5f-45ca-8a1a-ecbb25a33265",
   "metadata": {},
   "outputs": [
    {
     "name": "stdin",
     "output_type": "stream",
     "text": [
      "Enter the singer name:  Sonu Nigam\n"
     ]
    },
    {
     "name": "stdout",
     "output_type": "stream",
     "text": [
      "Kal ho na ho, Mein agar kahu, Abhi mujhme kahi, Tumse milke dil ka, Yeh dil diwana\n"
     ]
    }
   ],
   "source": [
    "sname = input(\"Enter the singer name: \")\n",
    "result = db_singer_table.find_one()\n",
    "if result:\n",
    "    # for value in singer_dict.values():\n",
    "    for singer, songs in result.items():\n",
    "        if sname.lower() == singer.lower():  # Case insensitive comparison\n",
    "            print(f\"{', '.join(songs)}\")\n",
    "            break\n",
    "        else:\n",
    "            continue\n",
    "else:\n",
    "    print(\"Singer not found.\")"
   ]
  },
  {
   "cell_type": "markdown",
   "id": "7f42b1d7-fbf8-4033-87b5-13c88d8deecf",
   "metadata": {},
   "source": [
    "#### Q5)"
   ]
  },
  {
   "cell_type": "code",
   "execution_count": 113,
   "id": "f250eefc-e769-46c9-9174-4c2e0c15fd92",
   "metadata": {},
   "outputs": [],
   "source": [
    "con = MongoClient(\"localhost\", 27017)\n",
    "db = con.manufacturing_unit\n",
    "db_manufacturing_table = db.emp_data"
   ]
  },
  {
   "cell_type": "code",
   "execution_count": 114,
   "id": "88299424-edc9-4f12-8a14-79b5b8cdc6fb",
   "metadata": {},
   "outputs": [],
   "source": [
    "emp = {\n",
    "    1:{\"Designation\": \"Manager\", \"Total leaves alloted\": 24},\n",
    "    2:{\"Designation\": \"Floor supervisor\", \"Total leaves alloted\": 30},\n",
    "    3:{\"Designation\": \"Machine staff\", \"Total leaves alloted\": 20}\n",
    "}"
   ]
  },
  {
   "cell_type": "code",
   "execution_count": 115,
   "id": "08bf0e92-596f-4b9a-a2a4-dc42303fb4fa",
   "metadata": {},
   "outputs": [
    {
     "data": {
      "text/plain": [
       "InsertManyResult([ObjectId('676d98ec70f48fda89904ef8'), ObjectId('676d98ec70f48fda89904ef9'), ObjectId('676d98ec70f48fda89904efa')], acknowledged=True)"
      ]
     },
     "execution_count": 115,
     "metadata": {},
     "output_type": "execute_result"
    }
   ],
   "source": [
    "db_manufacturing_table.insert_many(emp.values())"
   ]
  },
  {
   "cell_type": "code",
   "execution_count": 116,
   "id": "3c22512c-c445-447a-b039-17e405102dc5",
   "metadata": {},
   "outputs": [
    {
     "name": "stdin",
     "output_type": "stream",
     "text": [
      "Enter the designation:  Manager\n",
      "Enter the leaves taken:  4\n"
     ]
    }
   ],
   "source": [
    "designation = input(\"Enter the designation: \")\n",
    "leaves = int(input(\"Enter the leaves taken: \"))\n",
    "result = db_table.find_one({\"Designation\": designation})\n",
    "if result:\n",
    "    db_table.update_one({\"Designation\": designation}, {\"$inc\":{\"Total leaves alloted\": -leaves}})\n",
    "else:\n",
    "    print(\"Designation not found\")"
   ]
  }
 ],
 "metadata": {
  "kernelspec": {
   "display_name": "Python 3 (ipykernel)",
   "language": "python",
   "name": "python3"
  },
  "language_info": {
   "codemirror_mode": {
    "name": "ipython",
    "version": 3
   },
   "file_extension": ".py",
   "mimetype": "text/x-python",
   "name": "python",
   "nbconvert_exporter": "python",
   "pygments_lexer": "ipython3",
   "version": "3.11.7"
  }
 },
 "nbformat": 4,
 "nbformat_minor": 5
}
