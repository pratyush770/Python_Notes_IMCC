{
 "cells": [
  {
   "cell_type": "code",
   "execution_count": 1,
   "id": "e26314e2-0864-4511-bc5e-0fb69a1ad4dd",
   "metadata": {},
   "outputs": [],
   "source": [
    "import numpy as np\n",
    "import pandas as pd\n",
    "import re"
   ]
  },
  {
   "cell_type": "code",
   "execution_count": 2,
   "id": "cf4e5303-5292-49b9-805e-7852dc566a7e",
   "metadata": {},
   "outputs": [
    {
     "data": {
      "text/plain": [
       "array([ 5, 12, 40, 43, 68, 70])"
      ]
     },
     "execution_count": 2,
     "metadata": {},
     "output_type": "execute_result"
    }
   ],
   "source": [
    "family1 = np.array([70,5,12,68,40,43])\n",
    "family1.sort()\n",
    "family1"
   ]
  },
  {
   "cell_type": "code",
   "execution_count": 3,
   "id": "b03cf25b-4e20-480c-ad3a-795969657e6f",
   "metadata": {},
   "outputs": [
    {
     "data": {
      "text/plain": [
       "(5, 70)"
      ]
     },
     "execution_count": 3,
     "metadata": {},
     "output_type": "execute_result"
    }
   ],
   "source": [
    "family1[0], family1[-1]"
   ]
  },
  {
   "cell_type": "code",
   "execution_count": 4,
   "id": "df0a7684-cb3e-4cd4-b761-ee50ece822d7",
   "metadata": {},
   "outputs": [
    {
     "data": {
      "text/plain": [
       "5.333333333333333"
      ]
     },
     "execution_count": 4,
     "metadata": {},
     "output_type": "execute_result"
    }
   ],
   "source": [
    "first_match = np.array([12,10,2,3,5,0])\n",
    "first_match.mean()"
   ]
  },
  {
   "cell_type": "code",
   "execution_count": 5,
   "id": "413fd9ca-db1e-44c6-b9ae-75038d6f3899",
   "metadata": {},
   "outputs": [
    {
     "data": {
      "text/plain": [
       "array(['Ram Singh', 'Abhay Kumar'], dtype='<U11')"
      ]
     },
     "execution_count": 5,
     "metadata": {},
     "output_type": "execute_result"
    }
   ],
   "source": [
    "firstName = np.array(['Ram','Abhay'])\n",
    "lastName = np.array(['Singh','Kumar'])\n",
    "fullName = np.char.add(np.char.add(firstName, ' '), lastName)\n",
    "fullName"
   ]
  },
  {
   "cell_type": "code",
   "execution_count": 6,
   "id": "721716d2-cd7b-428c-9057-37c789d735d9",
   "metadata": {},
   "outputs": [
    {
     "data": {
      "text/plain": [
       "array(['ABC', 'PQR', 'XYZ', 'DEF', 'DAS', 'GHF', 'JHK', 'RST', 'YUG',\n",
       "       'OPL', 'BNM', 'FBV'], dtype='<U3')"
      ]
     },
     "execution_count": 6,
     "metadata": {},
     "output_type": "execute_result"
    }
   ],
   "source": [
    "cricketPlayers = np.array([\"ABC:22\",\"PQR:21\",\"XYZ:22\",\"DEF:23\",\"DAS:21\",\"GHF:22\",\"JHK:22\",\"RST:21\",\"YUG:21\",\"OPL:22\",\"BNM:23\",\"FBV:21\"])\n",
    "splitPlayers = np.char.split(cricketPlayers, sep=':')\n",
    "names = np.array([player[0] for player in splitPlayers])\n",
    "names"
   ]
  },
  {
   "cell_type": "code",
   "execution_count": 7,
   "id": "ae3d4e4f-d42a-45c0-8bcd-5f164e07a31e",
   "metadata": {},
   "outputs": [
    {
     "data": {
      "text/html": [
       "<div>\n",
       "<style scoped>\n",
       "    .dataframe tbody tr th:only-of-type {\n",
       "        vertical-align: middle;\n",
       "    }\n",
       "\n",
       "    .dataframe tbody tr th {\n",
       "        vertical-align: top;\n",
       "    }\n",
       "\n",
       "    .dataframe thead th {\n",
       "        text-align: right;\n",
       "    }\n",
       "</style>\n",
       "<table border=\"1\" class=\"dataframe\">\n",
       "  <thead>\n",
       "    <tr style=\"text-align: right;\">\n",
       "      <th></th>\n",
       "      <th>State</th>\n",
       "      <th>Capital</th>\n",
       "    </tr>\n",
       "  </thead>\n",
       "  <tbody>\n",
       "    <tr>\n",
       "      <th>0</th>\n",
       "      <td>Maharashtra</td>\n",
       "      <td>Mumbai</td>\n",
       "    </tr>\n",
       "    <tr>\n",
       "      <th>1</th>\n",
       "      <td>Goa</td>\n",
       "      <td>Panaji</td>\n",
       "    </tr>\n",
       "    <tr>\n",
       "      <th>2</th>\n",
       "      <td>Sikkim</td>\n",
       "      <td>Gangtok</td>\n",
       "    </tr>\n",
       "    <tr>\n",
       "      <th>3</th>\n",
       "      <td>Odisha</td>\n",
       "      <td>Bhubaneshwar</td>\n",
       "    </tr>\n",
       "    <tr>\n",
       "      <th>4</th>\n",
       "      <td>Bihar</td>\n",
       "      <td>Patna</td>\n",
       "    </tr>\n",
       "  </tbody>\n",
       "</table>\n",
       "</div>"
      ],
      "text/plain": [
       "         State       Capital\n",
       "0  Maharashtra        Mumbai\n",
       "1          Goa        Panaji\n",
       "2       Sikkim       Gangtok\n",
       "3       Odisha  Bhubaneshwar\n",
       "4        Bihar         Patna"
      ]
     },
     "execution_count": 7,
     "metadata": {},
     "output_type": "execute_result"
    }
   ],
   "source": [
    "states = pd.read_csv('C:/Users/ADMIN/Downloads/StateDetails.txt', names=['State', 'Capital'], sep=' ')\n",
    "states.head()"
   ]
  },
  {
   "cell_type": "code",
   "execution_count": 8,
   "id": "6530c468-5f21-467e-8ec4-7f49ba2f4b00",
   "metadata": {},
   "outputs": [
    {
     "data": {
      "text/html": [
       "<div>\n",
       "<style scoped>\n",
       "    .dataframe tbody tr th:only-of-type {\n",
       "        vertical-align: middle;\n",
       "    }\n",
       "\n",
       "    .dataframe tbody tr th {\n",
       "        vertical-align: top;\n",
       "    }\n",
       "\n",
       "    .dataframe thead th {\n",
       "        text-align: right;\n",
       "    }\n",
       "</style>\n",
       "<table border=\"1\" class=\"dataframe\">\n",
       "  <thead>\n",
       "    <tr style=\"text-align: right;\">\n",
       "      <th></th>\n",
       "      <th>Avenger</th>\n",
       "      <th>Characteristic</th>\n",
       "    </tr>\n",
       "  </thead>\n",
       "  <tbody>\n",
       "    <tr>\n",
       "      <th>0</th>\n",
       "      <td>Black widow</td>\n",
       "      <td>fierce fighter</td>\n",
       "    </tr>\n",
       "    <tr>\n",
       "      <th>1</th>\n",
       "      <td>Thor</td>\n",
       "      <td>funny</td>\n",
       "    </tr>\n",
       "    <tr>\n",
       "      <th>2</th>\n",
       "      <td>Iron man</td>\n",
       "      <td>Commander</td>\n",
       "    </tr>\n",
       "    <tr>\n",
       "      <th>3</th>\n",
       "      <td>Captain America</td>\n",
       "      <td>Defender</td>\n",
       "    </tr>\n",
       "    <tr>\n",
       "      <th>4</th>\n",
       "      <td>Hulk</td>\n",
       "      <td>Logician</td>\n",
       "    </tr>\n",
       "  </tbody>\n",
       "</table>\n",
       "</div>"
      ],
      "text/plain": [
       "            Avenger  Characteristic\n",
       "0       Black widow  fierce fighter\n",
       "1              Thor           funny\n",
       "2         Iron man        Commander\n",
       "3  Captain America         Defender\n",
       "4             Hulk         Logician"
      ]
     },
     "execution_count": 8,
     "metadata": {},
     "output_type": "execute_result"
    }
   ],
   "source": [
    "avengers = pd.read_csv('C:/Users/ADMIN/Downloads/AvengerDetails.txt', names=['Avenger', 'Characteristic'], sep='-')\n",
    "avengers.head()"
   ]
  },
  {
   "cell_type": "code",
   "execution_count": 9,
   "id": "61cd8f7e-4abe-4582-8e80-addf8e0d10e8",
   "metadata": {},
   "outputs": [],
   "source": [
    "sourceFile = open('C:/Users/ADMIN/Downloads/white spaces.txt', 'r')\n",
    "lines = sourceFile.readlines() \n",
    "removed_spaces = []\n",
    "for line in lines:\n",
    "    spaces_removed = re.findall('[^\\s]+', line)\n",
    "    removed_spaces.append(spaces_removed)\n",
    "# Write results to the destination file\n",
    "with open('C:/Users/ADMIN/Downloads/compact.txt', 'w') as f:\n",
    "    for r in removed_spaces:\n",
    "        f.write(f\"{''.join(r)}\\n\")"
   ]
  },
  {
   "cell_type": "code",
   "execution_count": 10,
   "id": "a74e7715-cda7-48d4-ae9a-f7d4a7496aa6",
   "metadata": {},
   "outputs": [
    {
     "name": "stdout",
     "output_type": "stream",
     "text": [
      "Total number of small letters: 20\n",
      "Total number of capital letters: 12\n"
     ]
    }
   ],
   "source": [
    "sourceFile = open('C:/Users/ADMIN/Downloads/source.txt', 'r')\n",
    "lines = sourceFile.readlines()  \n",
    "small_letters = []  # To store small letters\n",
    "capital_letters = []  # To store capital letters\n",
    "\n",
    "for line in lines:\n",
    "    # Find small letters\n",
    "    small_matches = re.findall('[a-z]', line)\n",
    "    small_letters.extend(small_matches)\n",
    "    \n",
    "    # Find capital letters\n",
    "    capital_matches = re.findall('[A-Z]', line)\n",
    "    capital_letters.extend(capital_matches)\n",
    "\n",
    "# Count small and capital letters\n",
    "small_letters_count = len(small_letters)\n",
    "capital_letters_count = len(capital_letters)\n",
    "\n",
    "# Write results to the destination file\n",
    "with open('C:/Users/ADMIN/Downloads/destination.txt', 'w') as f:\n",
    "    f.write(f\"{''.join(small_letters)}\\n\")\n",
    "    f.write(f\"{''.join(capital_letters)}\\n\")\n",
    "\n",
    "print(f\"Total number of small letters: {small_letters_count}\")\n",
    "print(f\"Total number of capital letters: {capital_letters_count}\")"
   ]
  },
  {
   "cell_type": "code",
   "execution_count": 11,
   "id": "4332f6ec-804a-4d5f-bcb0-39d94634e093",
   "metadata": {},
   "outputs": [],
   "source": [
    "contactsFile = open('C:/Users/ADMIN/Downloads/Contacts.txt', 'r')\n",
    "lines = contactsFile.readlines()\n",
    "mobile_numbers = []\n",
    "for line in lines:\n",
    "    matches = re.findall('\\d{10,12}', line)\n",
    "    mobile_numbers.extend(matches)\n",
    "\n",
    "with open('C:/Users/ADMIN/Downloads/MobileNumber.txt', 'w') as f:\n",
    "    f.write('\\n'.join(mobile_numbers))"
   ]
  },
  {
   "cell_type": "code",
   "execution_count": 12,
   "id": "996f9522-c23f-47a0-88c7-dccf1f1d25ec",
   "metadata": {},
   "outputs": [],
   "source": [
    "# attendanceFile = open('C:/Users/ADMIN/Downloads/attendance.txt', 'r')\n",
    "# lines = attendanceFile.readlines()\n",
    "# name = input(\"Enter student name: \")\n",
    "# name = name.lower()\n",
    "# attendance_found = False  # Flag to track if the student is present\n",
    "# for line in lines:\n",
    "#     if re.search(name, line.lower()):  # Case insensitive match\n",
    "#         attendance_found = True\n",
    "#         break  # No need to check further lines once a match is found\n",
    "# if attendance_found:\n",
    "#     print(f\"{name}'s attendance is marked\")\n",
    "# else:\n",
    "#     print(f\"{name} was absent for the lecture\")"
   ]
  },
  {
   "cell_type": "code",
   "execution_count": 13,
   "id": "56117702-4192-4246-b549-5053cfbd4ba6",
   "metadata": {},
   "outputs": [
    {
     "name": "stdin",
     "output_type": "stream",
     "text": [
      "Enter your name:  Pratyush\n",
      "Enter your address:  Yamuna Nagar\n",
      "Enter your age:  20\n"
     ]
    },
    {
     "name": "stdout",
     "output_type": "stream",
     "text": [
      "You are eligible to enroll for driving school\n"
     ]
    }
   ],
   "source": [
    "class LearnerUnderAgeError(Exception):\n",
    "    def __init__(self,msg):\n",
    "        super().__init__(msg)\n",
    "        self.msg = msg\n",
    "\n",
    "name = input(\"Enter your name: \")\n",
    "address = input(\"Enter your address: \")\n",
    "age = int(input(\"Enter your age: \"))\n",
    "try:\n",
    "    if age < 18:\n",
    "        raise LearnerUnderAgeError(\"You are not eligible to enroll for driving school\")\n",
    "except LearnerUnderAgeError as luag:\n",
    "    print(luag.msg)\n",
    "else:\n",
    "    print(\"You are eligible to enroll for driving school\")"
   ]
  },
  {
   "cell_type": "code",
   "execution_count": 2,
   "id": "de00f9d5-e2a9-4d76-b0a2-9f9397cdf79b",
   "metadata": {},
   "outputs": [],
   "source": [
    "from pymongo import MongoClient"
   ]
  },
  {
   "cell_type": "code",
   "execution_count": 5,
   "id": "60e64297-e9ed-4ce8-9c25-50831d37017d",
   "metadata": {},
   "outputs": [],
   "source": [
    "con = MongoClient(\"localhost\", 27017)\n",
    "db = con.mca\n",
    "db_table = db.hod_data"
   ]
  },
  {
   "cell_type": "code",
   "execution_count": 6,
   "id": "c7bc1499-6268-440d-8a00-d25913dffac9",
   "metadata": {},
   "outputs": [],
   "source": [
    "db_hod_dict = {\n",
    "    \"Java Programming\": \"Mr. ABC\",\n",
    "    \"Full Stack Development\": \"Ms. PQR\",\n",
    "    \"Cyber Security\": \"Ms. XYZ\",\n",
    "    \"SoftwareProjectManagement\": \"Mr. JKL\",\n",
    "    \"Research Methodology\": \"Mr. LMN\",\n",
    "    \"Soft Skills\": \"Ms. BNC\"\n",
    "}"
   ]
  },
  {
   "cell_type": "code",
   "execution_count": 7,
   "id": "3a2b5310-993a-4aec-bfa9-fc5c3eb61c9e",
   "metadata": {},
   "outputs": [
    {
     "data": {
      "text/plain": [
       "InsertOneResult(ObjectId('676d4267ab588096237467ae'), acknowledged=True)"
      ]
     },
     "execution_count": 7,
     "metadata": {},
     "output_type": "execute_result"
    }
   ],
   "source": [
    "db_table.insert_one(db_hod_dict)"
   ]
  },
  {
   "cell_type": "code",
   "execution_count": 20,
   "id": "7b5dc74d-928d-4282-a647-e79d90e650d4",
   "metadata": {},
   "outputs": [
    {
     "name": "stdin",
     "output_type": "stream",
     "text": [
      "Enter the faculty name:  Mr. ABC\n"
     ]
    },
    {
     "name": "stdout",
     "output_type": "stream",
     "text": [
      "Java Programming\n"
     ]
    }
   ],
   "source": [
    "fname = input(\"Enter the faculty name: \")\n",
    "for key, value in db_hod_dict.items():\n",
    "    if fname == value:\n",
    "        print(key)\n",
    "        break\n",
    "    else:\n",
    "        print(\"This faculty is not teaching any subject in second semester.\")\n",
    "        break\n",
    "# same for sub and then provide fname"
   ]
  },
  {
   "cell_type": "code",
   "execution_count": 21,
   "id": "d11b7aac-3b37-4aa3-967d-f56f93e172ba",
   "metadata": {},
   "outputs": [],
   "source": [
    "con = MongoClient(\"localhost\", 27017)\n",
    "db = con.mumbai\n",
    "db_table = db.marathon_data"
   ]
  },
  {
   "cell_type": "code",
   "execution_count": 44,
   "id": "95f8aa01-2eca-494c-87ad-1d3936e9be93",
   "metadata": {},
   "outputs": [
    {
     "data": {
      "text/plain": [
       "InsertManyResult([ObjectId('676d4944ab58809623746801'), ObjectId('676d4944ab58809623746802'), ObjectId('676d4944ab58809623746803'), ObjectId('676d4944ab58809623746804'), ObjectId('676d4944ab58809623746805'), ObjectId('676d4944ab58809623746806'), ObjectId('676d4944ab58809623746807'), ObjectId('676d4944ab58809623746808'), ObjectId('676d4944ab58809623746809'), ObjectId('676d4944ab5880962374680a')], acknowledged=True)"
      ]
     },
     "execution_count": 44,
     "metadata": {},
     "output_type": "execute_result"
    }
   ],
   "source": [
    "data = {\n",
    "    1: {\"reg_number\": 1},\n",
    "    2: {\"reg_number\": 2},\n",
    "    3: {\"reg_number\": 3},\n",
    "    4: {\"reg_number\": 4},\n",
    "    5: {\"reg_number\": 5},\n",
    "    6: {\"reg_number\": 6},\n",
    "    7: {\"reg_number\": 7},\n",
    "    8: {\"reg_number\": 8},\n",
    "    9: {\"reg_number\": 9},\n",
    "    10: {\"reg_number\": 10}\n",
    "}\n",
    "db_table.insert_many(data.values())"
   ]
  },
  {
   "cell_type": "code",
   "execution_count": 40,
   "id": "a9a57506-06d1-414c-860f-3ce6a7a78bc7",
   "metadata": {},
   "outputs": [
    {
     "name": "stdin",
     "output_type": "stream",
     "text": [
      "Enter the registration number of the participant who didn't report:  3\n"
     ]
    }
   ],
   "source": [
    "reg_number_input = int(input(\"Enter the registration number of the participant who didn't report: \"))\n",
    "if reg_number_input in data:\n",
    "    db_table.delete_one({\"reg_number\": reg_number_input})\n",
    "    del data[reg_number_input]"
   ]
  },
  {
   "cell_type": "code",
   "execution_count": 66,
   "id": "07c66aa5-b4e6-4141-b0f8-fe8e5ca64064",
   "metadata": {},
   "outputs": [],
   "source": [
    "con = MongoClient(\"localhost\", 27017)\n",
    "db = con.singer\n",
    "db_table = db.singer_data"
   ]
  },
  {
   "cell_type": "code",
   "execution_count": 67,
   "id": "e83efd17-ceb1-4320-b4d6-66f493da3689",
   "metadata": {},
   "outputs": [],
   "source": [
    "singer_dict = {\n",
    "    1: {\"Sonu Nigam\": [\"Kal ho na ho\", \"Mein agar kahu\", \"Abhi mujhme kahi\", \"Tumse milke dil ka\", \"Yeh dil diwana\"]},\n",
    "    2: {\"Arijit Singh\": [\"Tera yaar hu mein\", \"Sajni re\", \"Phir le aya dil\", \"Kabira\", \"Kabhi jo badal barse\"]},\n",
    "    3: {\"Shreya Ghoshal\": [\"Mere dholna\", \"Param sundari\", \"Jadu hai nasha hai\", \"More piya\",\"Tare ginn\"]}\n",
    "}"
   ]
  },
  {
   "cell_type": "code",
   "execution_count": 68,
   "id": "875e46a4-5839-4745-bee9-772cbb72cc5e",
   "metadata": {},
   "outputs": [
    {
     "data": {
      "text/plain": [
       "InsertManyResult([ObjectId('676d4fb9ab58809623746817'), ObjectId('676d4fb9ab58809623746818'), ObjectId('676d4fb9ab58809623746819')], acknowledged=True)"
      ]
     },
     "execution_count": 68,
     "metadata": {},
     "output_type": "execute_result"
    }
   ],
   "source": [
    "db_table.insert_many(singer_dict.values())"
   ]
  },
  {
   "cell_type": "code",
   "execution_count": 70,
   "id": "cbe1ab94-3c5f-45ca-8a1a-ecbb25a33265",
   "metadata": {},
   "outputs": [
    {
     "name": "stdin",
     "output_type": "stream",
     "text": [
      "Enter the singer name:  Shreya Ghoshal\n"
     ]
    },
    {
     "name": "stdout",
     "output_type": "stream",
     "text": [
      "Mere dholna, Param sundari, Jadu hai nasha hai, More piya, Tare ginn\n"
     ]
    }
   ],
   "source": [
    "sname = input(\"Enter the singer name: \")\n",
    "for value in singer_dict.values():\n",
    "    for singer, songs in value.items():\n",
    "        if sname.lower() == singer.lower():  # Case insensitive comparison\n",
    "            print(f\"{', '.join(songs)}\")\n",
    "            break\n",
    "    else:\n",
    "        continue\n",
    "    break\n",
    "else:\n",
    "    print(\"Singer not found.\")"
   ]
  },
  {
   "cell_type": "code",
   "execution_count": 46,
   "id": "f250eefc-e769-46c9-9174-4c2e0c15fd92",
   "metadata": {},
   "outputs": [],
   "source": [
    "con = MongoClient(\"localhost\", 27017)\n",
    "db = con.manufacturing_unit\n",
    "db_table = db.emp_data"
   ]
  },
  {
   "cell_type": "code",
   "execution_count": 51,
   "id": "88299424-edc9-4f12-8a14-79b5b8cdc6fb",
   "metadata": {},
   "outputs": [],
   "source": [
    "emp = {\n",
    "    1:{\"Designation\": \"Manager\", \"Total leaves alloted\": 24},\n",
    "    2:{\"Designation\": \"Floor supervisor\", \"Total leaves alloted\": 30},\n",
    "    3:{\"Designation\": \"Machine staff\", \"Total leaves alloted\": 20}\n",
    "}"
   ]
  },
  {
   "cell_type": "code",
   "execution_count": 52,
   "id": "08bf0e92-596f-4b9a-a2a4-dc42303fb4fa",
   "metadata": {},
   "outputs": [
    {
     "data": {
      "text/plain": [
       "InsertManyResult([ObjectId('676d4b4cab5880962374680f'), ObjectId('676d4b4cab58809623746810'), ObjectId('676d4b4cab58809623746811')], acknowledged=True)"
      ]
     },
     "execution_count": 52,
     "metadata": {},
     "output_type": "execute_result"
    }
   ],
   "source": [
    "db_table.insert_many(emp.values())"
   ]
  },
  {
   "cell_type": "code",
   "execution_count": 55,
   "id": "3c22512c-c445-447a-b039-17e405102dc5",
   "metadata": {},
   "outputs": [
    {
     "name": "stdin",
     "output_type": "stream",
     "text": [
      "Enter the designation:  Manager\n",
      "Enter the leaves taken:  4\n"
     ]
    }
   ],
   "source": [
    "designation = input(\"Enter the designation: \")\n",
    "leaves = int(input(\"Enter the leaves taken: \"))\n",
    "designation_found = False\n",
    "for employee in emp.values():\n",
    "    if employee[\"Designation\"] == designation:\n",
    "        designation_found = True\n",
    "        break\n",
    "if designation_found:\n",
    "    db_table.update_one({\"Designation\": designation}, {\"$inc\":{\"Total leaves alloted\": -leaves}})"
   ]
  }
 ],
 "metadata": {
  "kernelspec": {
   "display_name": "Python 3 (ipykernel)",
   "language": "python",
   "name": "python3"
  },
  "language_info": {
   "codemirror_mode": {
    "name": "ipython",
    "version": 3
   },
   "file_extension": ".py",
   "mimetype": "text/x-python",
   "name": "python",
   "nbconvert_exporter": "python",
   "pygments_lexer": "ipython3",
   "version": "3.11.7"
  }
 },
 "nbformat": 4,
 "nbformat_minor": 5
}
